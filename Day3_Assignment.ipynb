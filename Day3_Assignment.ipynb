{
 "cells": [
  {
   "cell_type": "code",
   "execution_count": 1,
   "metadata": {},
   "outputs": [],
   "source": [
    "import numpy as npy"
   ]
  },
  {
   "cell_type": "code",
   "execution_count": 3,
   "metadata": {},
   "outputs": [
    {
     "data": {
      "text/plain": [
       "array([ 2,  5,  8, 11, 14, 17, 20, 23, 26, 29, 32, 35, 38, 41, 44, 47])"
      ]
     },
     "execution_count": 3,
     "metadata": {},
     "output_type": "execute_result"
    }
   ],
   "source": [
    "npy.arange(2, 50, 3)"
   ]
  },
  {
   "cell_type": "code",
   "execution_count": 5,
   "metadata": {},
   "outputs": [
    {
     "name": "stdout",
     "output_type": "stream",
     "text": [
      "Enter the numbers1\n",
      "Enter the numbers2\n",
      "Enter the numbers3\n",
      "Enter the numbers4\n",
      "Enter the numbers5\n",
      "[1.0, 2.0, 3.0, 4.0, 5.0]\n",
      "[1. 2. 3. 4. 5.]\n",
      "<class 'numpy.ndarray'>\n",
      "Enter the numbers6\n",
      "Enter the numbers7\n",
      "Enter the numbers8\n",
      "Enter the numbers9\n",
      "Enter the numbers10\n",
      "[6.0, 7.0, 8.0, 9.0, 10.0]\n",
      "[ 6.  7.  8.  9. 10.]\n",
      "<class 'numpy.ndarray'>\n",
      "[ 1.  2.  3.  4.  5.  6.  7.  8.  9. 10.]\n",
      "[ 1.  2.  3.  4.  5.  6.  7.  8.  9. 10.]\n"
     ]
    }
   ],
   "source": [
    "l=[]\n",
    "for i in range(5):\n",
    "    l.append(float(input(\"Enter the numbers\")))\n",
    "print(l)\n",
    "ar=npy.array(l)\n",
    "print(ar)\n",
    "print(type(ar))\n",
    "l1=[]\n",
    "for i in range(5):\n",
    "    l1.append(float(input(\"Enter the numbers\")))\n",
    "print(l1)\n",
    "ar1=npy.array(l1)\n",
    "print(ar1)\n",
    "print(type(ar1))\n",
    "print(npy.concatenate((ar,ar1)))\n",
    "print(npy.sort((npy.concatenate((ar,ar1)))))"
   ]
  },
  {
   "cell_type": "code",
   "execution_count": 7,
   "metadata": {},
   "outputs": [
    {
     "name": "stdout",
     "output_type": "stream",
     "text": [
      "3\n",
      "24\n"
     ]
    }
   ],
   "source": [
    "ar=npy.array([[[0,1,2,3],\n",
    "             [4,5,6,7]],\n",
    "            [[0,1,2,3],\n",
    "             [4,5,6,7]],\n",
    "             [[0,1,2,3],\n",
    "              [4,5,6,7]]])\n",
    "print(ar.ndim)\n",
    "print(ar.size)"
   ]
  },
  {
   "cell_type": "code",
   "execution_count": 8,
   "metadata": {},
   "outputs": [
    {
     "name": "stdout",
     "output_type": "stream",
     "text": [
      "[1 2 3 4 5 6]\n",
      "(6,)\n",
      "[[1 2 3 4 5 6]]\n",
      "(1, 6)\n",
      "[[1 2 3 4 5 6]]\n",
      "(1, 6)\n"
     ]
    }
   ],
   "source": [
    "a=npy.array([1,2,3,4,5,6])\n",
    "print(a)\n",
    "print(a.shape)\n",
    "a1=a[npy.newaxis, :]\n",
    "print(a1)\n",
    "print(a1.shape)\n",
    "a2=npy.expand_dims(a,axis=0)\n",
    "print(a2)\n",
    "print(a2.shape)"
   ]
  },
  {
   "cell_type": "code",
   "execution_count": 9,
   "metadata": {},
   "outputs": [
    {
     "name": "stdout",
     "output_type": "stream",
     "text": [
      "[[1 1]\n",
      " [2 2]]\n",
      "[[3 3]\n",
      " [4 4]]\n",
      "[[1 1]\n",
      " [2 2]\n",
      " [3 3]\n",
      " [4 4]]\n",
      "[[1 1 3 3]\n",
      " [2 2 4 4]]\n"
     ]
    }
   ],
   "source": [
    "a=npy.array([[1,1],\n",
    "             [2,2]])\n",
    "a1=npy.array([[3,3],\n",
    "              [4,4]])\n",
    "print(a)\n",
    "print(a1)\n",
    "print(npy.vstack((a,a1)))\n",
    "print(npy.hstack((a,a1)))"
   ]
  },
  {
   "cell_type": "code",
   "execution_count": 11,
   "metadata": {},
   "outputs": [
    {
     "name": "stdout",
     "output_type": "stream",
     "text": [
      "[11 11 12 13 14 15 15 16 17 18 11 12 13 14]\n",
      "[11 12 13 14 15 16 17 18]\n",
      "[3 2 2 2 2 1 1 1]\n"
     ]
    }
   ],
   "source": [
    "a=npy.array([11,11,12,13,14,15,15,16,17,18,11,12,13,14])\n",
    "print(a)\n",
    "print(npy.unique(a))\n",
    "u,o=npy.unique(a,return_counts=True)\n",
    "print(o)"
   ]
  },
  {
   "cell_type": "code",
   "execution_count": null,
   "metadata": {},
   "outputs": [],
   "source": []
  }
 ],
 "metadata": {
  "kernelspec": {
   "display_name": "Python 3",
   "language": "python",
   "name": "python3"
  },
  "language_info": {
   "codemirror_mode": {
    "name": "ipython",
    "version": 3
   },
   "file_extension": ".py",
   "mimetype": "text/x-python",
   "name": "python",
   "nbconvert_exporter": "python",
   "pygments_lexer": "ipython3",
   "version": "3.8.3"
  }
 },
 "nbformat": 4,
 "nbformat_minor": 4
}
